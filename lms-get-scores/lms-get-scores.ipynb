{
 "cells": [
  {
   "cell_type": "code",
   "execution_count": 1,
   "metadata": {},
   "outputs": [],
   "source": [
    "import os\n",
    "import random\n",
    "import requests\n",
    "import pandas as pd\n",
    "import subprocess\n",
    "from bs4 import BeautifulSoup"
   ]
  },
  {
   "cell_type": "code",
   "execution_count": 2,
   "metadata": {},
   "outputs": [],
   "source": [
    "ACCESS_TOKEN = 'access token'\n",
    "\n",
    "payload_mark = {\n",
    "    '_qf__login_form': '',\n",
    "    'user_login': 'email',\n",
    "    'user_password': 'password'\n",
    "}\n",
    "\n",
    "\n",
    "def make_vk_request(method, params={}):\n",
    "    url = f'https://api.vk.com/method/{method}'\n",
    "    params['access_token'] = ACCESS_TOKEN\n",
    "    params['v'] = '5.101'\n",
    "    return requests.get(url, params=params)\n",
    "\n",
    "\n",
    "def send_message(msg=None, attachment=None):\n",
    "    method = 'messages.send'\n",
    "    params = {\n",
    "        'random_id': random.getrandbits(63) * random.choice([-1, 1]),\n",
    "        'domain': 'yngmrk',\n",
    "    }\n",
    "    if msg: params['message'] = msg\n",
    "    if attachment: params['attachment'] = attachment\n",
    "    return make_vk_request(method, params)\n",
    "\n",
    "\n",
    "def get_upload_url():\n",
    "    method = 'photos.getMessagesUploadServer'\n",
    "    return make_vk_request(method).json()['response']['upload_url']"
   ]
  },
  {
   "cell_type": "code",
   "execution_count": 3,
   "metadata": {},
   "outputs": [],
   "source": [
    "session = requests.session()\n",
    "session.post('https://lms.hse.ru/', data=payload_mark, timeout=5)\n",
    "response_gradebook = session.get('https://lms.hse.ru/index.php?page=gradebook')\n",
    "soup = BeautifulSoup(response_gradebook.text)"
   ]
  },
  {
   "cell_type": "code",
   "execution_count": 16,
   "metadata": {},
   "outputs": [
    {
     "name": "stdout",
     "output_type": "stream",
     "text": [
      "Loading page (1/2)\r\n",
      "[>                                                           ] 0%\r",
      "[======>                                                     ] 10%\r",
      "[==============================>                             ] 50%\r",
      "[============================================================] 100%\r",
      "Rendering (2/2)                                                    \r\n",
      "[>                                                           ] 0%\r",
      "[===============>                                            ] 25%\r",
      "[============================================================] 100%\r",
      "Done                                                               \r\n",
      "\n"
     ]
    }
   ],
   "source": [
    "tbl = []\n",
    "module_2 = soup.find('td', string='4 модуль').parent\n",
    "row = module_2.next_sibling\n",
    "while True:\n",
    "    if 'class' in row.attrs:\n",
    "        break\n",
    "    \n",
    "    l = list(i.text for i in row.children)\n",
    "    name = l[0]\n",
    "    score_10 = l[6] if l[6] else '-'\n",
    "    score_5 = l[7]\n",
    "    \n",
    "    tbl.append([name, score_10, score_5])\n",
    "\n",
    "    row = row.next_sibling\n",
    "\n",
    "headers = ['Предмет', 'Оценка по 10 б.', 'Оценка по 5 б.']\n",
    "df = pd.DataFrame(tbl, columns=headers)\n",
    "gradebook_html = df.to_html(index=False)\n",
    "with open('gradebook.html', \"w\", encoding=\"utf-16\") as f:\n",
    "    f.write(gradebook_html)\n",
    "\n",
    "path_to_html = os.getcwd() + '\\gradebook.html'\n",
    "proc = subprocess.run(f'd:\\\\programs\\wkhtmltox\\wkhtmltoimage -f png --width 0 {path_to_html} gradebook.png',\n",
    "                      shell=True,\n",
    "                      capture_output=True)\n",
    "print(proc.stderr.decode('866'))"
   ]
  },
  {
   "cell_type": "code",
   "execution_count": 17,
   "metadata": {},
   "outputs": [],
   "source": [
    "upload_url = get_upload_url()\n",
    "\n",
    "files = {\n",
    "    'photo': open('gradebook.png', 'rb')\n",
    "}\n",
    "upload_request = requests.post(upload_url, files=files)\n",
    "\n",
    "save_request = make_vk_request('photos.saveMessagesPhoto', upload_request.json())\n",
    "\n",
    "if save_request.status_code == upload_request.status_code == 200:\n",
    "    r = save_request.json()['response'][0]\n",
    "    owner_id = r['owner_id']\n",
    "    photo_id = r['id']\n",
    "    send_message(attachment=f\"photo{owner_id}_{photo_id}\")"
   ]
  }
 ],
 "metadata": {
  "kernelspec": {
   "display_name": "Python 3",
   "language": "python",
   "name": "python3"
  },
  "language_info": {
   "codemirror_mode": {
    "name": "ipython",
    "version": 3
   },
   "file_extension": ".py",
   "mimetype": "text/x-python",
   "name": "python",
   "nbconvert_exporter": "python",
   "pygments_lexer": "ipython3",
   "version": "3.7.0"
  }
 },
 "nbformat": 4,
 "nbformat_minor": 2
}
